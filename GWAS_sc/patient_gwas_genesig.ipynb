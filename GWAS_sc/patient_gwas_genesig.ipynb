{
 "cells": [
  {
   "cell_type": "markdown",
   "metadata": {},
   "source": [
    "Title: Indidvidual SCZ Genetic Overlap with GWAS\n",
    "Author: Fallon Ratner\n",
    "Date: 22-02-2024"
   ]
  },
  {
   "cell_type": "markdown",
   "metadata": {},
   "source": [
    "## Setting Up\n",
    "\n",
    "- Load libraries\n",
    "- Load different dataframes:\n",
    "  - SCZ GWAS Mapped Genes\n",
    "  - Differentially Expressed Genes (DEGs) individual SCZ patients from Notaras et al., 2022"
   ]
  },
  {
   "cell_type": "code",
   "execution_count": 46,
   "metadata": {},
   "outputs": [],
   "source": [
    "import os\n",
    "import pandas as pd\n",
    "import numpy as np\n",
    "import seaborn as sns\n",
    "import matplotlib.pyplot as plt\n",
    "\n",
    "#select relevant working directory\n",
    "os.chdir(\"C:/Users/fallo/OneDrive/Documents/URF_2023/Datasets\")\n",
    "\n",
    "\n",
    "gwas = pd.read_csv(\"SCZ_GWAS_mapped_genes.txt\", sep='\\t')\n",
    "# Set Gene_name column in gwas DataFrame\n",
    "gwas['Gene_name'] = gwas['symbol']\n",
    "#skip first row for sawada\n",
    "sawada_deg = pd.read_csv(\"sawada_deg_condition.csv\", skiprows = 1)\n",
    "\n",
    "notaras_s1_deg = pd.read_csv(\"notaras_deg_S1.csv\")\n",
    "\n",
    "notaras_s2_deg = pd.read_csv(\"notaras_deg_S2.csv\")\n",
    "\n",
    "notaras_s3_deg = pd.read_csv(\"notaras_deg_S3.csv\")"
   ]
  },
  {
   "cell_type": "markdown",
   "metadata": {},
   "source": [
    "## Visualize Overlap of DEGs from Different SCZ organoid patient lines\n",
    "\n",
    "- DEGs are based on the author's computational methods\n",
    "- DEGS for Notaras are computed based for each SCZ line vs all CTRL lines\n",
    "- Sawada only has one SCZ line and one CTRL line"
   ]
  },
  {
   "cell_type": "code",
   "execution_count": 47,
   "metadata": {},
   "outputs": [],
   "source": [
    "#Sawada selection criteria: log2FC > 0.585 and FDR < 0.01\n",
    "#Apply closest criteria to Notaras DEGs\n",
    "notaras_dfs = [notaras_s1_deg, notaras_s2_deg, notaras_s3_deg]\n",
    "for notaras_df in notaras_dfs:\n",
    "    notaras_df['Log2FC'] = np.log2(np.exp(notaras_df['logFC']))\n",
    "\n",
    "\n",
    "subset_not_s1 = notaras_s1_deg[(notaras_s1_deg['Log2FC'] > 0.585) & (notaras_s1_deg['FDR'] < 0.5)]\n",
    "subset_not_s2 = notaras_s2_deg[(notaras_s2_deg['Log2FC'] > 0.585) & (notaras_s2_deg['FDR'] < 0.99)]\n",
    "subset_not_s3 = notaras_s3_deg[(notaras_s3_deg['Log2FC'] > 0.585) & (notaras_s3_deg['FDR'] < 0.5)]\n"
   ]
  },
  {
   "cell_type": "markdown",
   "metadata": {},
   "source": [
    "## Visualize gene expression of common genes"
   ]
  },
  {
   "cell_type": "code",
   "execution_count": 48,
   "metadata": {},
   "outputs": [],
   "source": [
    "#Extract just the genes from each df\n",
    "s1_genes = set(subset_not_s1['Gene_name'])\n",
    "s2_genes = set(subset_not_s2['Gene_name'])\n",
    "s3_genes = set(subset_not_s3['Gene_name'])\n",
    "sawada_genes = set(sawada_deg['Gene_name'])\n",
    "gwas_genes = set(gwas['Gene_name'])\n",
    "\n",
    "# Find common genes among all dataframes\n",
    "common_genes = s1_genes.intersection(s2_genes, s3_genes, sawada_genes, gwas_genes)\n",
    "\n",
    "# Extract Log2FC values and gene names for common genes from the Notaras dataframes\n",
    "notaras_s1_common = subset_not_s1.loc[subset_not_s1['Gene_name'].isin(common_genes), ['Gene_name', 'Log2FC']]\n",
    "notaras_s2_common = subset_not_s2.loc[subset_not_s2['Gene_name'].isin(common_genes), ['Gene_name', 'Log2FC']]\n",
    "notaras_s3_common = subset_not_s3.loc[subset_not_s3['Gene_name'].isin(common_genes), ['Gene_name', 'Log2FC']]\n",
    "# Extract Log2FC values for common genes from the Sawada dataframe\n",
    "sawada_common = sawada_deg.loc[sawada_deg['Gene_name'].isin(common_genes), ['Gene_name', 'Log2FC']]"
   ]
  },
  {
   "cell_type": "code",
   "execution_count": 49,
   "metadata": {},
   "outputs": [
    {
     "data": {
      "text/html": [
       "<div>\n",
       "<style scoped>\n",
       "    .dataframe tbody tr th:only-of-type {\n",
       "        vertical-align: middle;\n",
       "    }\n",
       "\n",
       "    .dataframe tbody tr th {\n",
       "        vertical-align: top;\n",
       "    }\n",
       "\n",
       "    .dataframe thead th {\n",
       "        text-align: right;\n",
       "    }\n",
       "</style>\n",
       "<table border=\"1\" class=\"dataframe\">\n",
       "  <thead>\n",
       "    <tr style=\"text-align: right;\">\n",
       "      <th></th>\n",
       "      <th>Gene_name</th>\n",
       "      <th>Notaras_S1</th>\n",
       "      <th>Notaras_S2</th>\n",
       "      <th>Notaras_S3</th>\n",
       "      <th>Sawada</th>\n",
       "    </tr>\n",
       "  </thead>\n",
       "  <tbody>\n",
       "    <tr>\n",
       "      <th>0</th>\n",
       "      <td>TKT</td>\n",
       "      <td>1.920629</td>\n",
       "      <td>1.259597</td>\n",
       "      <td>1.043776</td>\n",
       "      <td>-0.631158</td>\n",
       "    </tr>\n",
       "  </tbody>\n",
       "</table>\n",
       "</div>"
      ],
      "text/plain": [
       "  Gene_name  Notaras_S1  Notaras_S2  Notaras_S3    Sawada\n",
       "0       TKT    1.920629    1.259597    1.043776 -0.631158"
      ]
     },
     "execution_count": 49,
     "metadata": {},
     "output_type": "execute_result"
    }
   ],
   "source": [
    "# Merge the Log2FC values for common genes from all dataframes into a single DataFrame\n",
    "heatmap_data = pd.merge(notaras_s1_common, notaras_s2_common, on='Gene_name', how='outer')\n",
    "# Rename columns\n",
    "heatmap_data = heatmap_data.rename(columns={'Log2FC_x': 'Notaras_S1', 'Log2FC_y': 'Notaras_S2'})\n",
    "#merge with 3rd df\n",
    "heatmap_data = pd.merge(heatmap_data, notaras_s3_common, on='Gene_name', how='outer')\n",
    "# Rename columns\n",
    "heatmap_data = heatmap_data.rename(columns={'Log2FC': 'Notaras_S3'})\n",
    "#merge with 4th df\n",
    "heatmap_data = pd.merge(heatmap_data, sawada_common, on='Gene_name', how='outer')\n",
    "# Rename columns\n",
    "heatmap_data = heatmap_data.rename(columns={'Log2FC': 'Sawada'})\n",
    "\n",
    "heatmap_data.head()"
   ]
  },
  {
   "cell_type": "code",
   "execution_count": 50,
   "metadata": {},
   "outputs": [
    {
     "data": {
      "image/png": "[encoded data removed]",
      "text/plain": [
       "<Figure size 1000x800 with 2 Axes>"
      ]
     },
     "metadata": {},
     "output_type": "display_data"
    }
   ],
   "source": [
    "# Plot the heatmap\n",
    "plt.figure(figsize=(10, 8))\n",
    "sns.heatmap(heatmap_data.set_index('Gene_name'), cmap='coolwarm', annot=True, fmt=\".2f\", linewidths=.5)\n",
    "\n",
    "# Add labels and title\n",
    "plt.ylabel('Common Genes')\n",
    "plt.title('Heatmap of Log2FC for Common Genes in SCZ GWAS and SCZ Organoid Lines')\n",
    "\n",
    "# Show the plot\n",
    "plt.show()"
   ]
  }
 ],
 "metadata": {
  "kernelspec": {
   "display_name": "base",
   "language": "python",
   "name": "python3"
  },
  "language_info": {
   "codemirror_mode": {
    "name": "ipython",
    "version": 3
   },
   "file_extension": ".py",
   "mimetype": "text/x-python",
   "name": "python",
   "nbconvert_exporter": "python",
   "pygments_lexer": "ipython3",
   "version": "3.10.9"
  }
 },
 "nbformat": 4,
 "nbformat_minor": 2
}
